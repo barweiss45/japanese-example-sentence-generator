{
 "cells": [
  {
   "cell_type": "code",
   "execution_count": null,
   "metadata": {},
   "outputs": [],
   "source": [
    "%pip install -r ../requirements.txt"
   ]
  },
  {
   "cell_type": "code",
   "execution_count": 1,
   "metadata": {},
   "outputs": [],
   "source": [
    "import os\n",
    "from dotenv import load_dotenv\n",
    "\n",
    "load_dotenv('../.env')\n",
    "\n",
    "openai_api_key = os.getenv('openai_api_key')"
   ]
  },
  {
   "cell_type": "code",
   "execution_count": 2,
   "metadata": {},
   "outputs": [],
   "source": [
    "from forvo_api import get_pronounciation\n",
    "from langchain.llms import OpenAI\n",
    "from langchain.output_parsers import StructuredOutputParser, ResponseSchema\n",
    "from langchain.prompts import PromptTemplate"
   ]
  },
  {
   "cell_type": "code",
   "execution_count": 4,
   "metadata": {},
   "outputs": [],
   "source": [
    "llm = OpenAI(model_name=\"text-davinci-003\", openai_api_key=openai_api_key)\n",
    "\n",
    "word = input('Enter word: ')"
   ]
  },
  {
   "attachments": {},
   "cell_type": "markdown",
   "metadata": {},
   "source": [
    "- Prompt Temlate"
   ]
  },
  {
   "cell_type": "code",
   "execution_count": 8,
   "metadata": {},
   "outputs": [],
   "source": [
    "# Notice \"location\" below, that is a placeholder for another value later\n",
    "template = \"\"\"\n",
    "Please create two sentences in modern conversational Japanese that include the word/phrase 「{look_up_word}」 based on the following instructions:\n",
    "\n",
    "I will provide a word or phrase, and you will create two realistic example sentences that may include verbs in either polite or dictionary forms. The sentences will be set in various everyday situations in modern Japan, such as at home, school, the store, a party, a restaurant, work between co-workers, on a date, a park, a train station, etc. Each sentence will be written in a way that can be understood by a student with proficiency at an N4 or N3 level and may include a proper Japanese first name or surname where appropriate. The sentences may be in a different tense, such as present, past, potential, te-form, subjective, or causative verb forms, and may be in either positive or negative form. The honorific or humble tense will not be used. The explanation will include an English translation and a very brief note about the tense and grammar points used. Absolutely do not include any Romanji transliteration.\n",
    "\n",
    "{format_instructions}\n",
    "\n",
    "The tone will be realistic and appropriate for a general audience. Thank you.\n",
    "\"\"\"\n"
   ]
  },
  {
   "attachments": {},
   "cell_type": "markdown",
   "metadata": {},
   "source": [
    "- Output Template"
   ]
  },
  {
   "cell_type": "code",
   "execution_count": 9,
   "metadata": {},
   "outputs": [
    {
     "name": "stdout",
     "output_type": "stream",
     "text": [
      "The output should be a markdown code snippet formatted in the following schema, including the leading and trailing \"\\`\\`\\`json\" and \"\\`\\`\\`\":\n",
      "\n",
      "```json\n",
      "{\n",
      "\t\"sentence_1\": string  // This is the first example sentence.\n",
      "\t\"sentence_1_explanation\": string  // This is the first example sentence explanation.\n",
      "\t\"sentence_2\": string  // This is the second example sentence.\n",
      "\t\"sentence_2_explanation\": string  // This is the second example sentence explanation.\n",
      "}\n",
      "```\n"
     ]
    }
   ],
   "source": [
    "# How you would like your reponse structured. This is basically a fancy prompt template\n",
    "response_schemas = [\n",
    "    ResponseSchema(name=\"sentence_1\", description=\"This is the first example sentence.\"),\n",
    "    ResponseSchema(name=\"sentence_1_explanation\", description=\"This is the first example sentence explanation.\"),\n",
    "    ResponseSchema(name=\"sentence_2\", description=\"This is the second example sentence.\"),\n",
    "    ResponseSchema(name=\"sentence_2_explanation\", description=\"This is the second example sentence explanation.\")\n",
    "]\n",
    "\n",
    "# How you would like to parse your output\n",
    "output_parser = StructuredOutputParser.from_response_schemas(response_schemas)\n",
    "\n",
    "# See the prompt template you created for formatting\n",
    "format_instructions = output_parser.get_format_instructions()\n",
    "print (format_instructions)"
   ]
  },
  {
   "cell_type": "code",
   "execution_count": 18,
   "metadata": {},
   "outputs": [
    {
     "name": "stdout",
     "output_type": "stream",
     "text": [
      "Final Prompt: \n",
      "Please create two sentences in modern conversational Japanese that include the word/phrase 「猫」 based on the following instructions:\n",
      "\n",
      "I will provide a word or phrase, and you will create two realistic example sentences that may include verbs in either polite or dictionary forms. The sentences will be set in various everyday situations in modern Japan, such as at home, school, the store, a party, a restaurant, work between co-workers, on a date, a park, a train station, etc. Each sentence will be written in a way that can be understood by a student with proficiency at an N4 or N3 level and may include a proper Japanese first name or surname where appropriate. The sentences may be in a different tense, such as present, past, potential, te-form, subjective, or causative verb forms, and may be in either positive or negative form. The honorific or humble tense will not be used. The explanation will include an English translation and a very brief note about the tense and grammar points used. Absolutely do not include any Romanji transliteration.\n",
      "\n",
      "The output should be a markdown code snippet formatted in the following schema, including the leading and trailing \"\\`\\`\\`json\" and \"\\`\\`\\`\":\n",
      "\n",
      "```json\n",
      "{\n",
      "\t\"sentence_1\": string  // This is the first example sentence.\n",
      "\t\"sentence_1_explanation\": string  // This is the first example sentence explanation.\n",
      "\t\"sentence_2\": string  // This is the second example sentence.\n",
      "\t\"sentence_2_explanation\": string  // This is the second example sentence explanation.\n",
      "}\n",
      "```\n",
      "\n",
      "The tone will be realistic and appropriate for a general audience. Thank you.\n",
      "\n",
      "-----------\n",
      "LLM Output: \n",
      "```json\n",
      "{\n",
      "\t\"sentence_1\": \"私は友達の家で猫を撫でている。\",\n",
      "\t\"sentence_1_explanation\": \"I am petting a cat at my friend's house. (Present tense)\",\n",
      "\t\"sentence_2\": \"私は猫が大好きだから、猫の写真を見るのが好きです。\",\n",
      "\t\"sentence_2_explanation\": \"I like looking at photos of cats because I love cats. (Present tense)\"\n",
      "}\n",
      "```\n"
     ]
    }
   ],
   "source": [
    "prompt = PromptTemplate(\n",
    "    input_variables=[\"look_up_word\"],\n",
    "    partial_variables={\"format_instructions\": format_instructions},\n",
    "    template=template,\n",
    ")\n",
    "\n",
    "get_pronounciation(word)\n",
    "\n",
    "promptValue = prompt.format(look_up_word=word) # keyword is 'word' which is defined in PromptTemplate Class\n",
    "\n",
    "print (f\"Final Prompt: {promptValue}\")\n",
    "print (\"-----------\")\n",
    "llm_output = llm(promptValue)\n",
    "print (f\"LLM Output: {llm_output}\")\n"
   ]
  },
  {
   "cell_type": "code",
   "execution_count": 20,
   "metadata": {},
   "outputs": [
    {
     "name": "stdout",
     "output_type": "stream",
     "text": [
      "{\"sentence_1\": \"私は友達の家で猫を撫でている。\",\"sentence_1_explanation\": \"I am petting a cat at my friend's house. (Present tense)\",\"sentence_2\": \"私は猫が大好きだから、猫の写真を見るのが好きです。\",\"sentence_2_explanation\": \"I like looking at photos of cats because I love cats. (Present tense)\"}\n",
      "This is sentence_1 -> 私は友達の家で猫を撫でている。.\n",
      "This is sentence_1_explanation -> I am petting a cat at my friend's house. (Present tense).\n",
      "This is sentence_2 -> 私は猫が大好きだから、猫の写真を見るのが好きです。.\n",
      "This is sentence_2_explanation -> I like looking at photos of cats because I love cats. (Present tense).\n"
     ]
    }
   ],
   "source": [
    "import re\n",
    "import json\n",
    "\n",
    "cleaned_output = re.sub(r'```json|```|\\n|\\t', '', llm_output)\n",
    "\n",
    "response_dict = json.loads(cleaned_output)\n",
    "\n",
    "for key, value in response_dict.items():\n",
    "    print(f\"This is {key} -> {value}.\")"
   ]
  },
  {
   "attachments": {},
   "cell_type": "markdown",
   "metadata": {},
   "source": [
    "## Output of Forvo of Pronounciation"
   ]
  },
  {
   "cell_type": "code",
   "execution_count": 21,
   "metadata": {},
   "outputs": [
    {
     "data": {
      "text/html": [
       "<style type=\"text/css\">\n",
       ".tg  {border-collapse:collapse;border-spacing:0;}\n",
       ".tg td{border-color:black;border-style:solid;border-width:1px;font-family:Arial, sans-serif;font-size:14px;\n",
       "  overflow:hidden;padding:10px 5px;word-break:normal;}\n",
       ".tg th{border-color:black;border-style:solid;border-width:1px;font-family:Arial, sans-serif;font-size:14px;\n",
       "  font-weight:normal;overflow:hidden;padding:10px 5px;word-break:normal;}\n",
       ".tg .tg-yxwx{background-color:#010066;color:#ffffff;text-align:left;vertical-align:top}\n",
       ".tg .tg-0lax{text-align:left;vertical-align:top}\n",
       "</style>\n",
       "<table class=\"tg\">\n",
       "<title>\n",
       "Forvo Results for \"猫\"\n",
       "</title>\n",
       "<h1>Forvo Results for \"猫\"</h1>\n",
       "<thead>\n",
       "  <tr>\n",
       "    <th class=\"tg-yxwx\">id</th>\n",
       "    <th class=\"tg-yxwx\">Hits</th>\n",
       "    <th class=\"tg-yxwx\">Word</th>\n",
       "    <th class=\"tg-yxwx\">Code</th>\n",
       "    <th class=\"tg-yxwx\">Country</th>\n",
       "    <th class=\"tg-yxwx\">User</th>\n",
       "    <th class=\"tg-yxwx\">Sex</th>\n",
       "    <th class=\"tg-yxwx\">+1 Votes</th>\n",
       "    <th class=\"tg-yxwx\">Preview</>\n",
       "    <th class=\"tg-yxwx\">Link</th>\n",
       "  </tr>\n",
       "</thead>\n",
       "<tbody>\n",
       "  <tr>\n",
       "    <td class=\"tg-0lax\">732715</td>\n",
       "    <td class=\"tg-0lax\">10491 </td>\n",
       "    <td class=\"tg-0lax\">猫</td>\n",
       "    <td class=\"tg-0lax\">ja</td>\n",
       "    <td class=\"tg-0lax\">Japan</td>\n",
       "    <td class=\"tg-0lax\">akitomo</td>\n",
       "    <td class=\"tg-0lax\">m</td>\n",
       "    <td class=\"tg-0lax\">1</td>\n",
       "    <td><audio controls><source src=\"https://apifree.forvo.com/audio/2e2l37341n1i3d332n1b1n3q3n2b3i1k3n2e2e262a3g392d3j1k292b3e332l3q3c2p3q3c3k3h3f1m2n3l381m1b2d1f2l242c273j31371h1g1m2d3c3f3p2o353c1h3c3d363k2q2j2a362h252d1m3n1n353f2m253p2l2h1t1t_331m282d3a34372i3l3f2o2p1m3b1j361b3e353o1k371t1t\" type=\"audio/mpeg\">Your browser does not support the audio tag.</audio></td>\n",
       "    <td class=\"tg-0lax\"><a href=https://apifree.forvo.com/audio/2e2l37341n1i3d332n1b1n3q3n2b3i1k3n2e2e262a3g392d3j1k292b3e332l3q3c2p3q3c3k3h3f1m2n3l381m1b2d1f2l242c273j31371h1g1m2d3c3f3p2o353c1h3c3d363k2q2j2a362h252d1m3n1n353f2m253p2l2h1t1t_331m282d3a34372i3l3f2o2p1m3b1j361b3e353o1k371t1t>Click to Download</a></td>\n",
       "  </tr>\n",
       "  <tr>\n",
       "    <td class=\"tg-0lax\">1006278</td>\n",
       "    <td class=\"tg-0lax\">16474 </td>\n",
       "    <td class=\"tg-0lax\">猫</td>\n",
       "    <td class=\"tg-0lax\">ja</td>\n",
       "    <td class=\"tg-0lax\">Japan</td>\n",
       "    <td class=\"tg-0lax\">molio</td>\n",
       "    <td class=\"tg-0lax\">f</td>\n",
       "    <td class=\"tg-0lax\">3</td>\n",
       "    <td><audio controls><source src=\"https://apifree.forvo.com/audio/1p3l1b2p1p213e2b2q3h3a331i3p1m2528273h283k1i1m312p1o2d3p3m2f1g2p3j2i1k2n252928221p282d3a2g2p3f3g1m221l1o3b2o1b1g2n1p311m3b2h3h252b3i281b253g232o3p33321h2o392g292c2i35212j211t1t_27381i2p251k1f262j313n213b2n1p1j3b1m39383m371t1t\" type=\"audio/mpeg\">Your browser does not support the audio tag.</audio></td>\n",
       "    <td class=\"tg-0lax\"><a href=https://apifree.forvo.com/audio/1p3l1b2p1p213e2b2q3h3a331i3p1m2528273h283k1i1m312p1o2d3p3m2f1g2p3j2i1k2n252928221p282d3a2g2p3f3g1m221l1o3b2o1b1g2n1p311m3b2h3h252b3i281b253g232o3p33321h2o392g292c2i35212j211t1t_27381i2p251k1f262j313n213b2n1p1j3b1m39383m371t1t>Click to Download</a></td>\n",
       "  </tr>\n",
       "  <tr>\n",
       "    <td class=\"tg-0lax\">2376917</td>\n",
       "    <td class=\"tg-0lax\">9479 </td>\n",
       "    <td class=\"tg-0lax\">猫</td>\n",
       "    <td class=\"tg-0lax\">ja</td>\n",
       "    <td class=\"tg-0lax\">Japan</td>\n",
       "    <td class=\"tg-0lax\">naotokyo</td>\n",
       "    <td class=\"tg-0lax\">f</td>\n",
       "    <td class=\"tg-0lax\">0</td>\n",
       "    <td><audio controls><source src=\"https://apifree.forvo.com/audio/3a3k3e2k1j2p35353c38313q2n3g2o251m3e361o312l2k1n281k3m2p3f1l2e3i1f251f2e233e2c2h2n36363c2g3q3e3c293d3e1n283i2d2k3l2f25212g2n2d2b2f352h1l1h3k252224251j3g212f3k3p1h3q3j3j1k371t1t_312i2o3c3h1f2q343m2f2732392f3437373p2j323c2h1t1t\" type=\"audio/mpeg\">Your browser does not support the audio tag.</audio></td>\n",
       "    <td class=\"tg-0lax\"><a href=https://apifree.forvo.com/audio/3a3k3e2k1j2p35353c38313q2n3g2o251m3e361o312l2k1n281k3m2p3f1l2e3i1f251f2e233e2c2h2n36363c2g3q3e3c293d3e1n283i2d2k3l2f25212g2n2d2b2f352h1l1h3k252224251j3g212f3k3p1h3q3j3j1k371t1t_312i2o3c3h1f2q343m2f2732392f3437373p2j323c2h1t1t>Click to Download</a></td>\n",
       "  </tr>\n",
       "  <tr>\n",
       "    <td class=\"tg-0lax\">3239742</td>\n",
       "    <td class=\"tg-0lax\">54924 </td>\n",
       "    <td class=\"tg-0lax\">猫</td>\n",
       "    <td class=\"tg-0lax\">ja</td>\n",
       "    <td class=\"tg-0lax\">Japan</td>\n",
       "    <td class=\"tg-0lax\">shonanjulie</td>\n",
       "    <td class=\"tg-0lax\">f</td>\n",
       "    <td class=\"tg-0lax\">6</td>\n",
       "    <td><audio controls><source src=\"https://apifree.forvo.com/audio/3p272o2p33212h221i2h31362b2k3a233j3a2l3n2127251o272p3c3m2j1j2637242h1g3c2g38261i2j393h1i2c353g3d3m361b21271k2o2o2g391j29332o322j3q3f2d3125273f2o3g2p2q28241h243m2j3l363j1l211t1t_32361p3m372k2n3j3e2f2c2j2p23283m2g1j2d2b1o211t1t\" type=\"audio/mpeg\">Your browser does not support the audio tag.</audio></td>\n",
       "    <td class=\"tg-0lax\"><a href=https://apifree.forvo.com/audio/3p272o2p33212h221i2h31362b2k3a233j3a2l3n2127251o272p3c3m2j1j2637242h1g3c2g38261i2j393h1i2c353g3d3m361b21271k2o2o2g391j29332o322j3q3f2d3125273f2o3g2p2q28241h243m2j3l363j1l211t1t_32361p3m372k2n3j3e2f2c2j2p23283m2g1j2d2b1o211t1t>Click to Download</a></td>\n",
       "  </tr>\n",
       "  <tr>\n",
       "    <td class=\"tg-0lax\">3463326</td>\n",
       "    <td class=\"tg-0lax\">7268 </td>\n",
       "    <td class=\"tg-0lax\">猫</td>\n",
       "    <td class=\"tg-0lax\">ja</td>\n",
       "    <td class=\"tg-0lax\">Japan</td>\n",
       "    <td class=\"tg-0lax\">strawberrybrown</td>\n",
       "    <td class=\"tg-0lax\">f</td>\n",
       "    <td class=\"tg-0lax\">3</td>\n",
       "    <td><audio controls><source src=\"https://apifree.forvo.com/audio/2d3h2435333n1l2l3a3j213h1f2l1l3d383j2e1j2i2b2k3g3o3m2927221b3934273d24382a1m3o322f2f3o2422222m3m1m332j3i2a2l2p2d2p2o233j1k3f1p2a3m2h1j3m2f2l2b25251n2l332o252n2i2k3c1b3638371t1t_393a3h33343e3c3h3b342g3d3k1j3a22381l3f3b3c371t1t\" type=\"audio/mpeg\">Your browser does not support the audio tag.</audio></td>\n",
       "    <td class=\"tg-0lax\"><a href=https://apifree.forvo.com/audio/2d3h2435333n1l2l3a3j213h1f2l1l3d383j2e1j2i2b2k3g3o3m2927221b3934273d24382a1m3o322f2f3o2422222m3m1m332j3i2a2l2p2d2p2o233j1k3f1p2a3m2h1j3m2f2l2b25251n2l332o252n2i2k3c1b3638371t1t_393a3h33343e3c3h3b342g3d3k1j3a22381l3f3b3c371t1t>Click to Download</a></td>\n",
       "  </tr>\n",
       "  <tr>\n",
       "    <td class=\"tg-0lax\">3769826</td>\n",
       "    <td class=\"tg-0lax\">3929 </td>\n",
       "    <td class=\"tg-0lax\">猫</td>\n",
       "    <td class=\"tg-0lax\">ja</td>\n",
       "    <td class=\"tg-0lax\">Japan</td>\n",
       "    <td class=\"tg-0lax\">skent</td>\n",
       "    <td class=\"tg-0lax\">m</td>\n",
       "    <td class=\"tg-0lax\">0</td>\n",
       "    <td><audio controls><source src=\"https://apifree.forvo.com/audio/392f3m2c3j2l1g1l283n3j331h3c383h1j281h37342g2p3a2g3b313m2q3l1k2k3f23372j2o2h3g1g3n2g1l1p1p283a3o3e1g2d3723243n3p2d292q1k3l1p2e2q281n3e3h352o2326211l1i1l1l3n2m3i3j373q3c2d2h1t1t_3d2h393g253a3b3n31213d363o1g2f1h2h2i3f3d3q371t1t\" type=\"audio/mpeg\">Your browser does not support the audio tag.</audio></td>\n",
       "    <td class=\"tg-0lax\"><a href=https://apifree.forvo.com/audio/392f3m2c3j2l1g1l283n3j331h3c383h1j281h37342g2p3a2g3b313m2q3l1k2k3f23372j2o2h3g1g3n2g1l1p1p283a3o3e1g2d3723243n3p2d292q1k3l1p2e2q281n3e3h352o2326211l1i1l1l3n2m3i3j373q3c2d2h1t1t_3d2h393g253a3b3n31213d363o1g2f1h2h2i3f3d3q371t1t>Click to Download</a></td>\n",
       "  </tr>\n",
       "  <tr>\n",
       "    <td class=\"tg-0lax\">4408808</td>\n",
       "    <td class=\"tg-0lax\">9628 </td>\n",
       "    <td class=\"tg-0lax\">猫</td>\n",
       "    <td class=\"tg-0lax\">ja</td>\n",
       "    <td class=\"tg-0lax\">Japan</td>\n",
       "    <td class=\"tg-0lax\">chiharu</td>\n",
       "    <td class=\"tg-0lax\">f</td>\n",
       "    <td class=\"tg-0lax\">0</td>\n",
       "    <td><audio controls><source src=\"https://apifree.forvo.com/audio/3i24362k2j3c2k3j3h2a3l1m321j253a1g273p2i2g1f2q37312b341i1i35261l1g362a2h383d2b3q1j2j1p2o3d3a2q321b3p3m2j2j3j262k242j3b2m2e2j3i3d361i1b273m312e3g321f2o1o3829382m3j3i1p1n2e371t1t_1m3j3i3c3m273l3m27343a3729362h3h2l2o1h3b2c211t1t\" type=\"audio/mpeg\">Your browser does not support the audio tag.</audio></td>\n",
       "    <td class=\"tg-0lax\"><a href=https://apifree.forvo.com/audio/3i24362k2j3c2k3j3h2a3l1m321j253a1g273p2i2g1f2q37312b341i1i35261l1g362a2h383d2b3q1j2j1p2o3d3a2q321b3p3m2j2j3j262k242j3b2m2e2j3i3d361i1b273m312e3g321f2o1o3829382m3j3i1p1n2e371t1t_1m3j3i3c3m273l3m27343a3729362h3h2l2o1h3b2c211t1t>Click to Download</a></td>\n",
       "  </tr>\n",
       "  <tr>\n",
       "    <td class=\"tg-0lax\">4819492</td>\n",
       "    <td class=\"tg-0lax\">750 </td>\n",
       "    <td class=\"tg-0lax\">猫</td>\n",
       "    <td class=\"tg-0lax\">ja</td>\n",
       "    <td class=\"tg-0lax\">Japan</td>\n",
       "    <td class=\"tg-0lax\">musicofmine88</td>\n",
       "    <td class=\"tg-0lax\">f</td>\n",
       "    <td class=\"tg-0lax\">0</td>\n",
       "    <td><audio controls><source src=\"https://apifree.forvo.com/audio/1m2a22313h322l2m351b2j1n342p361p2k3b343i2f1i3g361i3l1o253m1h1l2c363e27391i2j2o3b25383i262835313e311g351o1o331f1m3l1h2c3d1b3q3629331g2n2o1j1b2i243f371h211k2g1n28323p233j313n1t1t_3i1f2o372i313h232o2a3n213n27272l373m1k2c383n1t1t\" type=\"audio/mpeg\">Your browser does not support the audio tag.</audio></td>\n",
       "    <td class=\"tg-0lax\"><a href=https://apifree.forvo.com/audio/1m2a22313h322l2m351b2j1n342p361p2k3b343i2f1i3g361i3l1o253m1h1l2c363e27391i2j2o3b25383i262835313e311g351o1o331f1m3l1h2c3d1b3q3629331g2n2o1j1b2i243f371h211k2g1n28323p233j313n1t1t_3i1f2o372i313h232o2a3n213n27272l373m1k2c383n1t1t>Click to Download</a></td>\n",
       "  </tr>\n",
       "  <tr>\n",
       "    <td class=\"tg-0lax\">6228400</td>\n",
       "    <td class=\"tg-0lax\">493 </td>\n",
       "    <td class=\"tg-0lax\">猫</td>\n",
       "    <td class=\"tg-0lax\">ja</td>\n",
       "    <td class=\"tg-0lax\">Japan</td>\n",
       "    <td class=\"tg-0lax\">monekuson</td>\n",
       "    <td class=\"tg-0lax\">m</td>\n",
       "    <td class=\"tg-0lax\">0</td>\n",
       "    <td><audio controls><source src=\"https://apifree.forvo.com/audio/38381j3f1o3i1o2k2j1f391p252m3g3p322p282a3o2o1b1i3j2j2a1n2q321m2o3e2n3j3a213a1f2d2d21253b362q2f1p3b242q2i3j2j1l2f1o1i1o3c22381i2j1l362c1h2b2j381n2q222b313g3n2n1k23251g1m3l3n1t1t_1i2b3d3k2e392o3k2i3c2c1k2e261b3l392i2l2c1g211t1t\" type=\"audio/mpeg\">Your browser does not support the audio tag.</audio></td>\n",
       "    <td class=\"tg-0lax\"><a href=https://apifree.forvo.com/audio/38381j3f1o3i1o2k2j1f391p252m3g3p322p282a3o2o1b1i3j2j2a1n2q321m2o3e2n3j3a213a1f2d2d21253b362q2f1p3b242q2i3j2j1l2f1o1i1o3c22381i2j1l362c1h2b2j381n2q222b313g3n2n1k23251g1m3l3n1t1t_1i2b3d3k2e392o3k2i3c2c1k2e261b3l392i2l2c1g211t1t>Click to Download</a></td>\n",
       "  </tr>\n",
       "  <tr>\n",
       "    <td class=\"tg-0lax\">7427832</td>\n",
       "    <td class=\"tg-0lax\">268 </td>\n",
       "    <td class=\"tg-0lax\">猫</td>\n",
       "    <td class=\"tg-0lax\">ja</td>\n",
       "    <td class=\"tg-0lax\">Japan</td>\n",
       "    <td class=\"tg-0lax\">otiose</td>\n",
       "    <td class=\"tg-0lax\">m</td>\n",
       "    <td class=\"tg-0lax\">0</td>\n",
       "    <td><audio controls><source src=\"https://apifree.forvo.com/audio/2g2i3o3e1j2m272c2j2928253l2g2g232a3p2a3f3j3p292e2f372o1b272p271j3l3o3c382a1i2e3g2o1f3p1k341j3p261k2p2l1h2c283l1l3i3c37243e3j243822312n2b3a213k343p213c1j2k3h253p3q3d3c3i3h211t1t_2e1f3e1o3q311p3e2n1l1f372b3g2a2g3l29261h2b211t1t\" type=\"audio/mpeg\">Your browser does not support the audio tag.</audio></td>\n",
       "    <td class=\"tg-0lax\"><a href=https://apifree.forvo.com/audio/2g2i3o3e1j2m272c2j2928253l2g2g232a3p2a3f3j3p292e2f372o1b272p271j3l3o3c382a1i2e3g2o1f3p1k341j3p261k2p2l1h2c283l1l3i3c37243e3j243822312n2b3a213k343p213c1j2k3h253p3q3d3c3i3h211t1t_2e1f3e1o3q311p3e2n1l1f372b3g2a2g3l29261h2b211t1t>Click to Download</a></td>\n",
       "  </tr>\n",
       "</tbody>\n",
       "</table>\n",
       "<p><a href=\"https://forvo.com/\" title=\"Pronunciations by Forvo\"><img src=\"https://api.forvo.com/byforvoblue.gif\" width=\"120\" height=\"40\" alt=\"Pronunciations by Forvo\" style=\"border:0\" /></a></p>\n"
      ],
      "text/plain": [
       "<IPython.core.display.HTML object>"
      ]
     },
     "metadata": {},
     "output_type": "display_data"
    }
   ],
   "source": [
    "from IPython.display import display, HTML\n",
    "\n",
    "with open('output.html', 'r') as f:\n",
    "    html_string = f.read()\n",
    "\n",
    "display(HTML(html_string))"
   ]
  },
  {
   "cell_type": "code",
   "execution_count": null,
   "metadata": {},
   "outputs": [],
   "source": []
  }
 ],
 "metadata": {
  "kernelspec": {
   "display_name": "openai-japanese-example-sent-py3.10.9",
   "language": "python",
   "name": "python3"
  },
  "language_info": {
   "codemirror_mode": {
    "name": "ipython",
    "version": 3
   },
   "file_extension": ".py",
   "mimetype": "text/x-python",
   "name": "python",
   "nbconvert_exporter": "python",
   "pygments_lexer": "ipython3",
   "version": "3.10.9"
  },
  "orig_nbformat": 4
 },
 "nbformat": 4,
 "nbformat_minor": 2
}
