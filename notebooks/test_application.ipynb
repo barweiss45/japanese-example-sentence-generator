{
 "cells": [
  {
   "cell_type": "code",
   "execution_count": 4,
   "metadata": {},
   "outputs": [
    {
     "name": "stdout",
     "output_type": "stream",
     "text": [
      "Requirement already satisfied: langchain==0.0.168 in /Users/barryweiss/.pyenv/versions/3.10.9/envs/openai-japanese-example-sent-py3.10.9/lib/python3.10/site-packages (from -r ../requirements.txt (line 1)) (0.0.168)\n",
      "Requirement already satisfied: openai==0.27.6 in /Users/barryweiss/.pyenv/versions/3.10.9/envs/openai-japanese-example-sent-py3.10.9/lib/python3.10/site-packages (from -r ../requirements.txt (line 2)) (0.27.6)\n",
      "Requirement already satisfied: python-dotenv==1.0.0 in /Users/barryweiss/.pyenv/versions/3.10.9/envs/openai-japanese-example-sent-py3.10.9/lib/python3.10/site-packages (from -r ../requirements.txt (line 3)) (1.0.0)\n",
      "Requirement already satisfied: PyYAML>=5.4.1 in /Users/barryweiss/.pyenv/versions/3.10.9/envs/openai-japanese-example-sent-py3.10.9/lib/python3.10/site-packages (from langchain==0.0.168->-r ../requirements.txt (line 1)) (6.0)\n",
      "Requirement already satisfied: SQLAlchemy<3,>=1.4 in /Users/barryweiss/.pyenv/versions/3.10.9/envs/openai-japanese-example-sent-py3.10.9/lib/python3.10/site-packages (from langchain==0.0.168->-r ../requirements.txt (line 1)) (2.0.13)\n",
      "Requirement already satisfied: aiohttp<4.0.0,>=3.8.3 in /Users/barryweiss/.pyenv/versions/3.10.9/envs/openai-japanese-example-sent-py3.10.9/lib/python3.10/site-packages (from langchain==0.0.168->-r ../requirements.txt (line 1)) (3.8.4)\n",
      "Requirement already satisfied: async-timeout<5.0.0,>=4.0.0 in /Users/barryweiss/.pyenv/versions/3.10.9/envs/openai-japanese-example-sent-py3.10.9/lib/python3.10/site-packages (from langchain==0.0.168->-r ../requirements.txt (line 1)) (4.0.2)\n",
      "Requirement already satisfied: dataclasses-json<0.6.0,>=0.5.7 in /Users/barryweiss/.pyenv/versions/3.10.9/envs/openai-japanese-example-sent-py3.10.9/lib/python3.10/site-packages (from langchain==0.0.168->-r ../requirements.txt (line 1)) (0.5.7)\n",
      "Requirement already satisfied: numexpr<3.0.0,>=2.8.4 in /Users/barryweiss/.pyenv/versions/3.10.9/envs/openai-japanese-example-sent-py3.10.9/lib/python3.10/site-packages (from langchain==0.0.168->-r ../requirements.txt (line 1)) (2.8.4)\n",
      "Requirement already satisfied: numpy<2,>=1 in /Users/barryweiss/.pyenv/versions/3.10.9/envs/openai-japanese-example-sent-py3.10.9/lib/python3.10/site-packages (from langchain==0.0.168->-r ../requirements.txt (line 1)) (1.24.3)\n",
      "Requirement already satisfied: openapi-schema-pydantic<2.0,>=1.2 in /Users/barryweiss/.pyenv/versions/3.10.9/envs/openai-japanese-example-sent-py3.10.9/lib/python3.10/site-packages (from langchain==0.0.168->-r ../requirements.txt (line 1)) (1.2.4)\n",
      "Requirement already satisfied: pydantic<2,>=1 in /Users/barryweiss/.pyenv/versions/3.10.9/envs/openai-japanese-example-sent-py3.10.9/lib/python3.10/site-packages (from langchain==0.0.168->-r ../requirements.txt (line 1)) (1.10.7)\n",
      "Requirement already satisfied: requests<3,>=2 in /Users/barryweiss/.pyenv/versions/3.10.9/envs/openai-japanese-example-sent-py3.10.9/lib/python3.10/site-packages (from langchain==0.0.168->-r ../requirements.txt (line 1)) (2.30.0)\n",
      "Requirement already satisfied: tenacity<9.0.0,>=8.1.0 in /Users/barryweiss/.pyenv/versions/3.10.9/envs/openai-japanese-example-sent-py3.10.9/lib/python3.10/site-packages (from langchain==0.0.168->-r ../requirements.txt (line 1)) (8.2.2)\n",
      "Requirement already satisfied: tqdm in /Users/barryweiss/.pyenv/versions/3.10.9/envs/openai-japanese-example-sent-py3.10.9/lib/python3.10/site-packages (from openai==0.27.6->-r ../requirements.txt (line 2)) (4.65.0)\n",
      "Requirement already satisfied: attrs>=17.3.0 in /Users/barryweiss/.pyenv/versions/3.10.9/envs/openai-japanese-example-sent-py3.10.9/lib/python3.10/site-packages (from aiohttp<4.0.0,>=3.8.3->langchain==0.0.168->-r ../requirements.txt (line 1)) (23.1.0)\n",
      "Requirement already satisfied: charset-normalizer<4.0,>=2.0 in /Users/barryweiss/.pyenv/versions/3.10.9/envs/openai-japanese-example-sent-py3.10.9/lib/python3.10/site-packages (from aiohttp<4.0.0,>=3.8.3->langchain==0.0.168->-r ../requirements.txt (line 1)) (3.1.0)\n",
      "Requirement already satisfied: multidict<7.0,>=4.5 in /Users/barryweiss/.pyenv/versions/3.10.9/envs/openai-japanese-example-sent-py3.10.9/lib/python3.10/site-packages (from aiohttp<4.0.0,>=3.8.3->langchain==0.0.168->-r ../requirements.txt (line 1)) (6.0.4)\n",
      "Requirement already satisfied: yarl<2.0,>=1.0 in /Users/barryweiss/.pyenv/versions/3.10.9/envs/openai-japanese-example-sent-py3.10.9/lib/python3.10/site-packages (from aiohttp<4.0.0,>=3.8.3->langchain==0.0.168->-r ../requirements.txt (line 1)) (1.9.2)\n",
      "Requirement already satisfied: frozenlist>=1.1.1 in /Users/barryweiss/.pyenv/versions/3.10.9/envs/openai-japanese-example-sent-py3.10.9/lib/python3.10/site-packages (from aiohttp<4.0.0,>=3.8.3->langchain==0.0.168->-r ../requirements.txt (line 1)) (1.3.3)\n",
      "Requirement already satisfied: aiosignal>=1.1.2 in /Users/barryweiss/.pyenv/versions/3.10.9/envs/openai-japanese-example-sent-py3.10.9/lib/python3.10/site-packages (from aiohttp<4.0.0,>=3.8.3->langchain==0.0.168->-r ../requirements.txt (line 1)) (1.3.1)\n",
      "Requirement already satisfied: marshmallow<4.0.0,>=3.3.0 in /Users/barryweiss/.pyenv/versions/3.10.9/envs/openai-japanese-example-sent-py3.10.9/lib/python3.10/site-packages (from dataclasses-json<0.6.0,>=0.5.7->langchain==0.0.168->-r ../requirements.txt (line 1)) (3.19.0)\n",
      "Requirement already satisfied: marshmallow-enum<2.0.0,>=1.5.1 in /Users/barryweiss/.pyenv/versions/3.10.9/envs/openai-japanese-example-sent-py3.10.9/lib/python3.10/site-packages (from dataclasses-json<0.6.0,>=0.5.7->langchain==0.0.168->-r ../requirements.txt (line 1)) (1.5.1)\n",
      "Requirement already satisfied: typing-inspect>=0.4.0 in /Users/barryweiss/.pyenv/versions/3.10.9/envs/openai-japanese-example-sent-py3.10.9/lib/python3.10/site-packages (from dataclasses-json<0.6.0,>=0.5.7->langchain==0.0.168->-r ../requirements.txt (line 1)) (0.8.0)\n",
      "Requirement already satisfied: typing-extensions>=4.2.0 in /Users/barryweiss/.pyenv/versions/3.10.9/envs/openai-japanese-example-sent-py3.10.9/lib/python3.10/site-packages (from pydantic<2,>=1->langchain==0.0.168->-r ../requirements.txt (line 1)) (4.5.0)\n",
      "Requirement already satisfied: idna<4,>=2.5 in /Users/barryweiss/.pyenv/versions/3.10.9/envs/openai-japanese-example-sent-py3.10.9/lib/python3.10/site-packages (from requests<3,>=2->langchain==0.0.168->-r ../requirements.txt (line 1)) (3.4)\n",
      "Requirement already satisfied: urllib3<3,>=1.21.1 in /Users/barryweiss/.pyenv/versions/3.10.9/envs/openai-japanese-example-sent-py3.10.9/lib/python3.10/site-packages (from requests<3,>=2->langchain==0.0.168->-r ../requirements.txt (line 1)) (2.0.2)\n",
      "Requirement already satisfied: certifi>=2017.4.17 in /Users/barryweiss/.pyenv/versions/3.10.9/envs/openai-japanese-example-sent-py3.10.9/lib/python3.10/site-packages (from requests<3,>=2->langchain==0.0.168->-r ../requirements.txt (line 1)) (2023.5.7)\n",
      "Requirement already satisfied: packaging>=17.0 in /Users/barryweiss/.pyenv/versions/3.10.9/envs/openai-japanese-example-sent-py3.10.9/lib/python3.10/site-packages (from marshmallow<4.0.0,>=3.3.0->dataclasses-json<0.6.0,>=0.5.7->langchain==0.0.168->-r ../requirements.txt (line 1)) (23.1)\n",
      "Requirement already satisfied: mypy-extensions>=0.3.0 in /Users/barryweiss/.pyenv/versions/3.10.9/envs/openai-japanese-example-sent-py3.10.9/lib/python3.10/site-packages (from typing-inspect>=0.4.0->dataclasses-json<0.6.0,>=0.5.7->langchain==0.0.168->-r ../requirements.txt (line 1)) (1.0.0)\n",
      "Note: you may need to restart the kernel to use updated packages.\n"
     ]
    }
   ],
   "source": [
    "%pip install -r ../requirements.txt"
   ]
  },
  {
   "cell_type": "code",
   "execution_count": null,
   "metadata": {},
   "outputs": [],
   "source": []
  }
 ],
 "metadata": {
  "kernelspec": {
   "display_name": "openai-japanese-example-sent-py3.10.9",
   "language": "python",
   "name": "python3"
  },
  "language_info": {
   "codemirror_mode": {
    "name": "ipython",
    "version": 3
   },
   "file_extension": ".py",
   "mimetype": "text/x-python",
   "name": "python",
   "nbconvert_exporter": "python",
   "pygments_lexer": "ipython3",
   "version": "3.10.9"
  },
  "orig_nbformat": 4
 },
 "nbformat": 4,
 "nbformat_minor": 2
}
