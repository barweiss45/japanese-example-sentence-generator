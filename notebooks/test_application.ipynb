{
 "cells": [
  {
   "cell_type": "code",
   "execution_count": 1,
   "metadata": {},
   "outputs": [
    {
     "name": "stdout",
     "output_type": "stream",
     "text": [
      "Requirement already satisfied: langchain==0.0.168 in /Users/barryweiss/.pyenv/versions/3.10.9/envs/openai-japanese-example-sent-py3.10.9/lib/python3.10/site-packages (from -r ../requirements.txt (line 1)) (0.0.168)\n",
      "Requirement already satisfied: openai==0.27.6 in /Users/barryweiss/.pyenv/versions/3.10.9/envs/openai-japanese-example-sent-py3.10.9/lib/python3.10/site-packages (from -r ../requirements.txt (line 2)) (0.27.6)\n",
      "Requirement already satisfied: python-dotenv==1.0.0 in /Users/barryweiss/.pyenv/versions/3.10.9/envs/openai-japanese-example-sent-py3.10.9/lib/python3.10/site-packages (from -r ../requirements.txt (line 3)) (1.0.0)\n",
      "Requirement already satisfied: Jinja2==3.1.2 in /Users/barryweiss/.pyenv/versions/3.10.9/envs/openai-japanese-example-sent-py3.10.9/lib/python3.10/site-packages (from -r ../requirements.txt (line 4)) (3.1.2)\n",
      "Requirement already satisfied: PyYAML>=5.4.1 in /Users/barryweiss/.pyenv/versions/3.10.9/envs/openai-japanese-example-sent-py3.10.9/lib/python3.10/site-packages (from langchain==0.0.168->-r ../requirements.txt (line 1)) (6.0)\n",
      "Requirement already satisfied: SQLAlchemy<3,>=1.4 in /Users/barryweiss/.pyenv/versions/3.10.9/envs/openai-japanese-example-sent-py3.10.9/lib/python3.10/site-packages (from langchain==0.0.168->-r ../requirements.txt (line 1)) (2.0.13)\n",
      "Requirement already satisfied: aiohttp<4.0.0,>=3.8.3 in /Users/barryweiss/.pyenv/versions/3.10.9/envs/openai-japanese-example-sent-py3.10.9/lib/python3.10/site-packages (from langchain==0.0.168->-r ../requirements.txt (line 1)) (3.8.4)\n",
      "Requirement already satisfied: async-timeout<5.0.0,>=4.0.0 in /Users/barryweiss/.pyenv/versions/3.10.9/envs/openai-japanese-example-sent-py3.10.9/lib/python3.10/site-packages (from langchain==0.0.168->-r ../requirements.txt (line 1)) (4.0.2)\n",
      "Requirement already satisfied: dataclasses-json<0.6.0,>=0.5.7 in /Users/barryweiss/.pyenv/versions/3.10.9/envs/openai-japanese-example-sent-py3.10.9/lib/python3.10/site-packages (from langchain==0.0.168->-r ../requirements.txt (line 1)) (0.5.7)\n",
      "Requirement already satisfied: numexpr<3.0.0,>=2.8.4 in /Users/barryweiss/.pyenv/versions/3.10.9/envs/openai-japanese-example-sent-py3.10.9/lib/python3.10/site-packages (from langchain==0.0.168->-r ../requirements.txt (line 1)) (2.8.4)\n",
      "Requirement already satisfied: numpy<2,>=1 in /Users/barryweiss/.pyenv/versions/3.10.9/envs/openai-japanese-example-sent-py3.10.9/lib/python3.10/site-packages (from langchain==0.0.168->-r ../requirements.txt (line 1)) (1.24.3)\n",
      "Requirement already satisfied: openapi-schema-pydantic<2.0,>=1.2 in /Users/barryweiss/.pyenv/versions/3.10.9/envs/openai-japanese-example-sent-py3.10.9/lib/python3.10/site-packages (from langchain==0.0.168->-r ../requirements.txt (line 1)) (1.2.4)\n",
      "Requirement already satisfied: pydantic<2,>=1 in /Users/barryweiss/.pyenv/versions/3.10.9/envs/openai-japanese-example-sent-py3.10.9/lib/python3.10/site-packages (from langchain==0.0.168->-r ../requirements.txt (line 1)) (1.10.7)\n",
      "Requirement already satisfied: requests<3,>=2 in /Users/barryweiss/.pyenv/versions/3.10.9/envs/openai-japanese-example-sent-py3.10.9/lib/python3.10/site-packages (from langchain==0.0.168->-r ../requirements.txt (line 1)) (2.30.0)\n",
      "Requirement already satisfied: tenacity<9.0.0,>=8.1.0 in /Users/barryweiss/.pyenv/versions/3.10.9/envs/openai-japanese-example-sent-py3.10.9/lib/python3.10/site-packages (from langchain==0.0.168->-r ../requirements.txt (line 1)) (8.2.2)\n",
      "Requirement already satisfied: tqdm in /Users/barryweiss/.pyenv/versions/3.10.9/envs/openai-japanese-example-sent-py3.10.9/lib/python3.10/site-packages (from openai==0.27.6->-r ../requirements.txt (line 2)) (4.65.0)\n",
      "Requirement already satisfied: MarkupSafe>=2.0 in /Users/barryweiss/.pyenv/versions/3.10.9/envs/openai-japanese-example-sent-py3.10.9/lib/python3.10/site-packages (from Jinja2==3.1.2->-r ../requirements.txt (line 4)) (2.1.2)\n",
      "Requirement already satisfied: attrs>=17.3.0 in /Users/barryweiss/.pyenv/versions/3.10.9/envs/openai-japanese-example-sent-py3.10.9/lib/python3.10/site-packages (from aiohttp<4.0.0,>=3.8.3->langchain==0.0.168->-r ../requirements.txt (line 1)) (23.1.0)\n",
      "Requirement already satisfied: charset-normalizer<4.0,>=2.0 in /Users/barryweiss/.pyenv/versions/3.10.9/envs/openai-japanese-example-sent-py3.10.9/lib/python3.10/site-packages (from aiohttp<4.0.0,>=3.8.3->langchain==0.0.168->-r ../requirements.txt (line 1)) (3.1.0)\n",
      "Requirement already satisfied: multidict<7.0,>=4.5 in /Users/barryweiss/.pyenv/versions/3.10.9/envs/openai-japanese-example-sent-py3.10.9/lib/python3.10/site-packages (from aiohttp<4.0.0,>=3.8.3->langchain==0.0.168->-r ../requirements.txt (line 1)) (6.0.4)\n",
      "Requirement already satisfied: yarl<2.0,>=1.0 in /Users/barryweiss/.pyenv/versions/3.10.9/envs/openai-japanese-example-sent-py3.10.9/lib/python3.10/site-packages (from aiohttp<4.0.0,>=3.8.3->langchain==0.0.168->-r ../requirements.txt (line 1)) (1.9.2)\n",
      "Requirement already satisfied: frozenlist>=1.1.1 in /Users/barryweiss/.pyenv/versions/3.10.9/envs/openai-japanese-example-sent-py3.10.9/lib/python3.10/site-packages (from aiohttp<4.0.0,>=3.8.3->langchain==0.0.168->-r ../requirements.txt (line 1)) (1.3.3)\n",
      "Requirement already satisfied: aiosignal>=1.1.2 in /Users/barryweiss/.pyenv/versions/3.10.9/envs/openai-japanese-example-sent-py3.10.9/lib/python3.10/site-packages (from aiohttp<4.0.0,>=3.8.3->langchain==0.0.168->-r ../requirements.txt (line 1)) (1.3.1)\n",
      "Requirement already satisfied: marshmallow<4.0.0,>=3.3.0 in /Users/barryweiss/.pyenv/versions/3.10.9/envs/openai-japanese-example-sent-py3.10.9/lib/python3.10/site-packages (from dataclasses-json<0.6.0,>=0.5.7->langchain==0.0.168->-r ../requirements.txt (line 1)) (3.19.0)\n",
      "Requirement already satisfied: marshmallow-enum<2.0.0,>=1.5.1 in /Users/barryweiss/.pyenv/versions/3.10.9/envs/openai-japanese-example-sent-py3.10.9/lib/python3.10/site-packages (from dataclasses-json<0.6.0,>=0.5.7->langchain==0.0.168->-r ../requirements.txt (line 1)) (1.5.1)\n",
      "Requirement already satisfied: typing-inspect>=0.4.0 in /Users/barryweiss/.pyenv/versions/3.10.9/envs/openai-japanese-example-sent-py3.10.9/lib/python3.10/site-packages (from dataclasses-json<0.6.0,>=0.5.7->langchain==0.0.168->-r ../requirements.txt (line 1)) (0.8.0)\n",
      "Requirement already satisfied: typing-extensions>=4.2.0 in /Users/barryweiss/.pyenv/versions/3.10.9/envs/openai-japanese-example-sent-py3.10.9/lib/python3.10/site-packages (from pydantic<2,>=1->langchain==0.0.168->-r ../requirements.txt (line 1)) (4.5.0)\n",
      "Requirement already satisfied: idna<4,>=2.5 in /Users/barryweiss/.pyenv/versions/3.10.9/envs/openai-japanese-example-sent-py3.10.9/lib/python3.10/site-packages (from requests<3,>=2->langchain==0.0.168->-r ../requirements.txt (line 1)) (3.4)\n",
      "Requirement already satisfied: urllib3<3,>=1.21.1 in /Users/barryweiss/.pyenv/versions/3.10.9/envs/openai-japanese-example-sent-py3.10.9/lib/python3.10/site-packages (from requests<3,>=2->langchain==0.0.168->-r ../requirements.txt (line 1)) (2.0.2)\n",
      "Requirement already satisfied: certifi>=2017.4.17 in /Users/barryweiss/.pyenv/versions/3.10.9/envs/openai-japanese-example-sent-py3.10.9/lib/python3.10/site-packages (from requests<3,>=2->langchain==0.0.168->-r ../requirements.txt (line 1)) (2023.5.7)\n",
      "Requirement already satisfied: packaging>=17.0 in /Users/barryweiss/.pyenv/versions/3.10.9/envs/openai-japanese-example-sent-py3.10.9/lib/python3.10/site-packages (from marshmallow<4.0.0,>=3.3.0->dataclasses-json<0.6.0,>=0.5.7->langchain==0.0.168->-r ../requirements.txt (line 1)) (23.1)\n",
      "Requirement already satisfied: mypy-extensions>=0.3.0 in /Users/barryweiss/.pyenv/versions/3.10.9/envs/openai-japanese-example-sent-py3.10.9/lib/python3.10/site-packages (from typing-inspect>=0.4.0->dataclasses-json<0.6.0,>=0.5.7->langchain==0.0.168->-r ../requirements.txt (line 1)) (1.0.0)\n",
      "Note: you may need to restart the kernel to use updated packages.\n"
     ]
    }
   ],
   "source": [
    "%pip install -r ../requirements.txt"
   ]
  },
  {
   "cell_type": "code",
   "execution_count": 2,
   "metadata": {},
   "outputs": [
    {
     "name": "stderr",
     "output_type": "stream",
     "text": [
      "UsageError: Line magic function `%dotenv` not found.\n"
     ]
    }
   ],
   "source": [
    "# Load .env file using ipython\n",
    "%dotenv ../.env"
   ]
  },
  {
   "cell_type": "code",
   "execution_count": 3,
   "metadata": {},
   "outputs": [],
   "source": [
    "import os\n",
    "\n",
    "openai_api_key = os.getenv('openai_api_key')"
   ]
  },
  {
   "cell_type": "code",
   "execution_count": 4,
   "metadata": {},
   "outputs": [],
   "source": [
    "from forvo_api import get_pronounciation\n",
    "from langchain.llms import OpenAI\n",
    "from langchain import PromptTemplate"
   ]
  },
  {
   "cell_type": "code",
   "execution_count": 5,
   "metadata": {},
   "outputs": [],
   "source": [
    "llm = OpenAI(model_name=\"text-davinci-003\", openai_api_key=openai_api_key)\n",
    "\n",
    "word = input('Enter word: ')"
   ]
  },
  {
   "cell_type": "code",
   "execution_count": 6,
   "metadata": {},
   "outputs": [],
   "source": [
    "# Notice \"location\" below, that is a placeholder for another value later\n",
    "template = \"\"\"\n",
    "Please create two sentences in modern conversational Japanese that include the word/phrase 「{look_up_word}」 based on the following instructions:\n",
    "\n",
    "You will provide a word or phrase, and I will create two realistic example sentences that may include verbs in either polite or dictionary forms. The sentences will be set in various everyday situations in modern Japan, such as at home, school, the store, a party, a restaurant, work between co-workers, on a date, a park, a train station, etc. Each sentence will be written in a way that can be understood by a student with proficiency at an N4 or N3 level and may include a proper Japanese first name or surname where appropriate. The sentences may be in a different tense, such as present, past, potential, te-form, subjective, or causative verb forms, and may be in either positive or negative form. The honorific or humble tense will not be used. The response will include an English translation and a note of the tense and grammar points used but absolutely do not include any Romanji please. The tone will be realistic and appropriate for a general audience. Thank you.\n",
    "\"\"\"\n"
   ]
  },
  {
   "cell_type": "code",
   "execution_count": 8,
   "metadata": {},
   "outputs": [
    {
     "name": "stdout",
     "output_type": "stream",
     "text": [
      "Final Prompt: \n",
      "Please create two sentences in modern conversational Japanese that include the word/phrase 「猫」 based on the following instructions:\n",
      "\n",
      "You will provide a word or phrase, and I will create two realistic example sentences that may include verbs in either polite or dictionary forms. The sentences will be set in various everyday situations in modern Japan, such as at home, school, the store, a party, a restaurant, work between co-workers, on a date, a park, a train station, etc. Each sentence will be written in a way that can be understood by a student with proficiency at an N4 or N3 level and may include a proper Japanese first name or surname where appropriate. The sentences may be in a different tense, such as present, past, potential, te-form, subjective, or causative verb forms, and may be in either positive or negative form. The honorific or humble tense will not be used. The response will include an English translation and a note of the tense and grammar points used but absolutely do not include any Romanji please. The tone will be realistic and appropriate for a general audience. Thank you.\n",
      "\n",
      "-----------\n",
      "LLM Output: \n",
      "猫が庭にいる。\n",
      "Katya-san wa, dochirademo o-yasumi no tame ni asobu yō ni, yasashiku kazaru tame no niwa ni kyandii to shashin o tsukutta.\n",
      "\n",
      "猫: Katya-san wa, niwa no naka de neko o miru yō ni, nazeka sō omou no desu.\n",
      "\n",
      "Translation: \n",
      "Katya-san has set up candy and photos in her garden so that she can play there during her break times. She somehow feels like she is watching a cat in the garden.\n"
     ]
    }
   ],
   "source": [
    "prompt = PromptTemplate(\n",
    "    input_variables=[\"look_up_word\"],\n",
    "    template=template,\n",
    ")\n",
    "\n",
    "get_pronounciation(word)\n",
    "final_prompt = prompt.format(look_up_word=word) # keyword is 'word' which is defined in PromptTemplate Class\n",
    "\n",
    "print (f\"Final Prompt: {final_prompt}\")\n",
    "print (\"-----------\")\n",
    "print (f\"LLM Output: {llm(final_prompt)}\")\n"
   ]
  },
  {
   "cell_type": "code",
   "execution_count": null,
   "metadata": {},
   "outputs": [],
   "source": []
  }
 ],
 "metadata": {
  "kernelspec": {
   "display_name": "openai-japanese-example-sent-py3.10.9",
   "language": "python",
   "name": "python3"
  },
  "language_info": {
   "codemirror_mode": {
    "name": "ipython",
    "version": 3
   },
   "file_extension": ".py",
   "mimetype": "text/x-python",
   "name": "python",
   "nbconvert_exporter": "python",
   "pygments_lexer": "ipython3",
   "version": "3.10.9"
  },
  "orig_nbformat": 4
 },
 "nbformat": 4,
 "nbformat_minor": 2
}
